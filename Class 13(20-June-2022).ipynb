{
 "cells": [
  {
   "cell_type": "markdown",
   "id": "08dbec79",
   "metadata": {},
   "source": [
    "# While Loop"
   ]
  },
  {
   "cell_type": "code",
   "execution_count": 3,
   "id": "f9b1bd59",
   "metadata": {},
   "outputs": [
    {
     "name": "stdout",
     "output_type": "stream",
     "text": [
      "BILAL DILDAR ASAD KAZIM "
     ]
    }
   ],
   "source": [
    "names=[\"Bilal\",\"Dildar\",\"asad\",\"Kazim\"]\n",
    "for name in names:\n",
    "    print(name.upper(),end=\" \")"
   ]
  },
  {
   "cell_type": "code",
   "execution_count": 5,
   "id": "2cad48b6",
   "metadata": {},
   "outputs": [
    {
     "name": "stdout",
     "output_type": "stream",
     "text": [
      "BILAL\n",
      "DILDAR\n",
      "ASAD\n",
      "KAZIM\n"
     ]
    }
   ],
   "source": [
    "count = 0\n",
    "while  count<len(names):\n",
    "    print(names[count].upper())\n",
    "    count += 1"
   ]
  },
  {
   "cell_type": "code",
   "execution_count": 6,
   "id": "91c603f2",
   "metadata": {},
   "outputs": [
    {
     "name": "stdout",
     "output_type": "stream",
     "text": [
      "BILAL\n",
      "ASAD\n"
     ]
    }
   ],
   "source": [
    "count = 0\n",
    "while  count<len(names):\n",
    "    print(names[count].upper())\n",
    "    count += 2"
   ]
  },
  {
   "cell_type": "code",
   "execution_count": 9,
   "id": "49103691",
   "metadata": {},
   "outputs": [
    {
     "name": "stdout",
     "output_type": "stream",
     "text": [
      "0 Pyhton\n",
      "1 Pyhton\n",
      "2 Pyhton\n",
      "3 Pyhton\n",
      "4 Pyhton\n"
     ]
    }
   ],
   "source": [
    "for a in range(5):\n",
    "    print(a, \"Pyhton\")"
   ]
  },
  {
   "cell_type": "code",
   "execution_count": 10,
   "id": "cc54eb45",
   "metadata": {},
   "outputs": [
    {
     "name": "stdout",
     "output_type": "stream",
     "text": [
      "Pyhton\n",
      "Pyhton\n",
      "Pyhton\n",
      "Pyhton\n",
      "Pyhton\n"
     ]
    }
   ],
   "source": [
    "for a in range(5):\n",
    "    print(\"Pyhton\")"
   ]
  },
  {
   "cell_type": "code",
   "execution_count": 13,
   "id": "48ea6cc0",
   "metadata": {},
   "outputs": [
    {
     "name": "stdout",
     "output_type": "stream",
     "text": [
      "0 Python\n",
      "1 Python\n",
      "2 Python\n",
      "3 Python\n",
      "4 Python\n"
     ]
    }
   ],
   "source": [
    "count=0\n",
    "while count<5:\n",
    "    print(count,\"Python\")\n",
    "    count +=1"
   ]
  },
  {
   "cell_type": "code",
   "execution_count": 19,
   "id": "1427237a",
   "metadata": {},
   "outputs": [
    {
     "name": "stdout",
     "output_type": "stream",
     "text": [
      "Python\n",
      "Python\n"
     ]
    }
   ],
   "source": [
    "count=0\n",
    "while count<5:\n",
    "    print(\"Python\")\n",
    "    count +=3"
   ]
  },
  {
   "cell_type": "code",
   "execution_count": 26,
   "id": "802b2b61",
   "metadata": {},
   "outputs": [
    {
     "name": "stdout",
     "output_type": "stream",
     "text": [
      "5 Python\n",
      "4 Python\n",
      "3 Python\n",
      "2 Python\n",
      "1 Python\n"
     ]
    }
   ],
   "source": [
    "count=5\n",
    "while count>0:\n",
    "    print(count,\"Python\")\n",
    "    count -=1"
   ]
  },
  {
   "cell_type": "code",
   "execution_count": null,
   "id": "2194fdd7",
   "metadata": {},
   "outputs": [],
   "source": []
  },
  {
   "cell_type": "code",
   "execution_count": 32,
   "id": "b07d3aec",
   "metadata": {},
   "outputs": [
    {
     "name": "stdout",
     "output_type": "stream",
     "text": [
      "1 2 3 4 5 "
     ]
    }
   ],
   "source": [
    "i = 1\n",
    "while i < 6:\n",
    " print(i,end=\" \")\n",
    " i += 1"
   ]
  },
  {
   "cell_type": "code",
   "execution_count": 33,
   "id": "eb141a6d",
   "metadata": {},
   "outputs": [
    {
     "name": "stdout",
     "output_type": "stream",
     "text": [
      "1\n",
      "2\n",
      "3\n"
     ]
    }
   ],
   "source": [
    "i = 1\n",
    "while i < 6:\n",
    "  print(i)\n",
    "  if i == 3:\n",
    "    break\n",
    "  i += 1"
   ]
  },
  {
   "cell_type": "code",
   "execution_count": 1,
   "id": "fba14b81",
   "metadata": {},
   "outputs": [
    {
     "name": "stdout",
     "output_type": "stream",
     "text": [
      "1\n",
      "2\n",
      "4\n",
      "5\n",
      "6\n"
     ]
    }
   ],
   "source": [
    "i = 0\n",
    "while i < 6:\n",
    "  i += 1\n",
    "  if i == 3:\n",
    "    continue\n",
    "  print(i)"
   ]
  },
  {
   "cell_type": "code",
   "execution_count": 2,
   "id": "bc466575",
   "metadata": {},
   "outputs": [
    {
     "name": "stdout",
     "output_type": "stream",
     "text": [
      "1\n",
      "3\n",
      "5\n",
      "7\n",
      "9\n"
     ]
    }
   ],
   "source": [
    "a=0\n",
    "while a<10:\n",
    "    \n",
    "    a+=1 \n",
    "   \n",
    "    if a%2==0:\n",
    "            \n",
    "        continue\n",
    "    print(a)    \n",
    "   "
   ]
  },
  {
   "cell_type": "code",
   "execution_count": 13,
   "id": "c5c729d5",
   "metadata": {},
   "outputs": [
    {
     "name": "stdout",
     "output_type": "stream",
     "text": [
      "1\n",
      "3\n",
      "5\n",
      "7\n",
      "9\n",
      "11\n",
      "13\n",
      "15\n",
      "17\n",
      "19\n"
     ]
    }
   ],
   "source": [
    "a=0\n",
    "while a<20:\n",
    "    \n",
    "    a+=1 \n",
    "   \n",
    "    if a%2==0:\n",
    "            \n",
    "        continue\n",
    "    print(a)    \n",
    "   "
   ]
  },
  {
   "cell_type": "code",
   "execution_count": 22,
   "id": "002eba04",
   "metadata": {},
   "outputs": [
    {
     "name": "stdout",
     "output_type": "stream",
     "text": [
      "Even Numbers: [2, 4, 6, 8, 10, 12, 14, 16, 18, 20]\n",
      "Odd NUmbers:  [1, 3, 5, 7, 9, 11, 13, 15, 17, 19]\n"
     ]
    }
   ],
   "source": [
    "a=0\n",
    "Even_number=[]\n",
    "odd_number=[]\n",
    "while a<20:\n",
    "    \n",
    "    a+=1 \n",
    "   \n",
    "    if a%2==0:\n",
    "            Even_number.append(a)\n",
    "    else:\n",
    "        odd_number.append(a)\n",
    "        #continue\n",
    "print(\"Even Numbers:\",Even_number)    \n",
    "print(\"Odd NUmbers: \",odd_number)   "
   ]
  },
  {
   "cell_type": "code",
   "execution_count": 23,
   "id": "5e671975",
   "metadata": {},
   "outputs": [
    {
     "name": "stdout",
     "output_type": "stream",
     "text": [
      "Enter any number: 3\n",
      "6\n",
      "Enter any number: 4\n",
      "8\n",
      "Enter any number: 5\n",
      "10\n",
      "Enter any number: 6\n",
      "12\n",
      "Enter any number: 7\n"
     ]
    }
   ],
   "source": [
    "while True:\n",
    "    num = int(input(\"Enter any number: \"))\n",
    "    if num%7==0:\n",
    "        print(\"The number is divisible by 7\")\n",
    "        break\n",
    "    print(num*2)    "
   ]
  },
  {
   "cell_type": "code",
   "execution_count": 5,
   "id": "5a0e1ee0",
   "metadata": {},
   "outputs": [
    {
     "name": "stdout",
     "output_type": "stream",
     "text": [
      "Enter our best friends name: Aamir\n",
      "Enter our best friends name: Bilal\n",
      "Enter our best friends name: Kazim\n",
      "Enter our best friends name: Ali\n"
     ]
    },
    {
     "data": {
      "text/plain": [
       "['Aamir', 'Bilal', 'Kazim', 'Ali']"
      ]
     },
     "execution_count": 5,
     "metadata": {},
     "output_type": "execute_result"
    }
   ],
   "source": [
    "best_friends=[]\n",
    "while True:\n",
    "    best_friend=input(\"Enter our best friends name: \")\n",
    "    best_friends.append(best_friend)\n",
    "    if best_friend==\"Ali\":\n",
    "        break\n",
    "   \n",
    "   \n",
    "\n",
    "best_friends"
   ]
  },
  {
   "cell_type": "code",
   "execution_count": 2,
   "id": "43ff2566",
   "metadata": {},
   "outputs": [
    {
     "name": "stdout",
     "output_type": "stream",
     "text": [
      "Enter our best friends name: Aamir\n",
      "Enter our best friends name: Bilal\n",
      "Enter our best friends name: Kazim\n",
      "Enter our best friends name: Ali\n"
     ]
    },
    {
     "data": {
      "text/plain": [
       "['Aamir', 'Bilal', 'Kazim']"
      ]
     },
     "execution_count": 2,
     "metadata": {},
     "output_type": "execute_result"
    }
   ],
   "source": [
    "best_friends=[]\n",
    "while True:\n",
    "    best_friend=input(\"Enter our best friends name: \")\n",
    "    \n",
    "    if best_friend==\"Ali\":\n",
    "        break\n",
    "    best_friends.append(best_friend)\n",
    "   \n",
    "\n",
    "best_friends"
   ]
  },
  {
   "cell_type": "code",
   "execution_count": 3,
   "id": "9d5c60a5",
   "metadata": {},
   "outputs": [
    {
     "name": "stdout",
     "output_type": "stream",
     "text": [
      "Enter our best friends name: Aamir\n",
      "Enter our best friends name: Bilal\n",
      "Enter our best friends name: Kazim\n",
      "Enter our best friends name: Ali\n"
     ]
    },
    {
     "data": {
      "text/plain": [
       "['Aamir', 'Bilal', 'Kazim']"
      ]
     },
     "execution_count": 3,
     "metadata": {},
     "output_type": "execute_result"
    }
   ],
   "source": [
    "best_friends=[]\n",
    "while True:\n",
    "    best_friend=input(\"Enter our best friends name: \")\n",
    "    \n",
    "    if best_friend==\"Ali\":\n",
    "        break\n",
    "    else:\n",
    "        best_friends.append(best_friend)\n",
    "   \n",
    "        \n",
    "best_friends"
   ]
  },
  {
   "cell_type": "code",
   "execution_count": 3,
   "id": "0e24ded4",
   "metadata": {},
   "outputs": [
    {
     "name": "stdout",
     "output_type": "stream",
     "text": [
      "Enter our best friends name: r\n",
      "Enter our best friends name: t\n",
      "Enter our best friends name: y\n",
      "Enter our best friends name: Ali\n"
     ]
    },
    {
     "data": {
      "text/plain": [
       "['r', 't', 'y']"
      ]
     },
     "execution_count": 3,
     "metadata": {},
     "output_type": "execute_result"
    }
   ],
   "source": [
    "best_friends=[]\n",
    "flag=True\n",
    "while flag:\n",
    "    best_friend=input(\"Enter our best friends name: \")\n",
    "    \n",
    "    if best_friend==\"Ali\":\n",
    "        flag = False\n",
    "    else:\n",
    "        best_friends.append(best_friend)\n",
    "   \n",
    "        \n",
    "best_friends"
   ]
  },
  {
   "cell_type": "code",
   "execution_count": 31,
   "id": "ff3f5182",
   "metadata": {},
   "outputs": [
    {
     "ename": "SyntaxError",
     "evalue": "invalid syntax (Temp/ipykernel_996/3402044202.py, line 9)",
     "output_type": "error",
     "traceback": [
      "\u001b[1;36m  File \u001b[1;32m\"C:\\Users\\LAB02R~1\\AppData\\Local\\Temp/ipykernel_996/3402044202.py\"\u001b[1;36m, line \u001b[1;32m9\u001b[0m\n\u001b[1;33m    total=sum.(num)\u001b[0m\n\u001b[1;37m              ^\u001b[0m\n\u001b[1;31mSyntaxError\u001b[0m\u001b[1;31m:\u001b[0m invalid syntax\n"
     ]
    }
   ],
   "source": [
    "a=[]\n",
    "while True:\n",
    "    num=int(input(\"Enter any number or press '0' to exit \"))\n",
    "    if num==0:\n",
    "        break\n",
    "      \n",
    "    else:\n",
    "        a.append(num)\n",
    "        total=sum.(num)\n",
    "   \n",
    "print(total)\n",
    "\n"
   ]
  },
  {
   "cell_type": "markdown",
   "id": "22e52f57",
   "metadata": {},
   "source": [
    "a=0\n",
    "while True:\n",
    "    num=int(input(\"Enter any number or press '0' to exit \"))\n",
    "    if num==0:\n",
    "        break\n",
    "      \n",
    "    else:\n",
    "        a.append(num)\n",
    "        total=sum(num)\n",
    "   \n",
    "print(total)\n"
   ]
  },
  {
   "cell_type": "code",
   "execution_count": 36,
   "id": "562e9e7f",
   "metadata": {},
   "outputs": [
    {
     "name": "stdout",
     "output_type": "stream",
     "text": [
      "Enter any number or press '0' to exit 4\n",
      "Enter any number or press '0' to exit 5\n",
      "Enter any number or press '0' to exit 6\n",
      "Enter any number or press '0' to exit 3\n",
      "Enter any number or press '0' to exit 0\n",
      "18\n"
     ]
    }
   ],
   "source": [
    "a=[]\n",
    "while True:\n",
    "    num=int(input(\"Enter any number or press '0' to exit \"))\n",
    "    if num==0:\n",
    "        break\n",
    "      \n",
    "    else:\n",
    "        a.append(num)\n",
    "        total=sum(a)\n",
    "   \n",
    "print(total)"
   ]
  },
  {
   "cell_type": "code",
   "execution_count": 37,
   "id": "3f82eeb8",
   "metadata": {},
   "outputs": [
    {
     "name": "stdout",
     "output_type": "stream",
     "text": [
      "Enter any number or press 'd' to exit 5\n",
      "Enter any number or press 'd' to exit 6\n",
      "Enter any number or press 'd' to exit 7\n",
      "Enter any number or press 'd' to exit 8\n",
      "Enter any number or press 'd' to exit d\n"
     ]
    },
    {
     "ename": "ValueError",
     "evalue": "invalid literal for int() with base 10: 'd'",
     "output_type": "error",
     "traceback": [
      "\u001b[1;31m---------------------------------------------------------------------------\u001b[0m",
      "\u001b[1;31mValueError\u001b[0m                                Traceback (most recent call last)",
      "\u001b[1;32mC:\\Users\\LAB02R~1\\AppData\\Local\\Temp/ipykernel_996/3087694191.py\u001b[0m in \u001b[0;36m<module>\u001b[1;34m\u001b[0m\n\u001b[0;32m      1\u001b[0m \u001b[0mtotal\u001b[0m \u001b[1;33m=\u001b[0m \u001b[1;36m0\u001b[0m\u001b[1;33m\u001b[0m\u001b[1;33m\u001b[0m\u001b[0m\n\u001b[0;32m      2\u001b[0m \u001b[1;32mwhile\u001b[0m \u001b[1;32mTrue\u001b[0m\u001b[1;33m:\u001b[0m\u001b[1;33m\u001b[0m\u001b[1;33m\u001b[0m\u001b[0m\n\u001b[1;32m----> 3\u001b[1;33m     \u001b[0mnum\u001b[0m\u001b[1;33m=\u001b[0m\u001b[0mint\u001b[0m\u001b[1;33m(\u001b[0m\u001b[0minput\u001b[0m\u001b[1;33m(\u001b[0m\u001b[1;34m\"Enter any number or press 'd' to exit \"\u001b[0m\u001b[1;33m)\u001b[0m\u001b[1;33m)\u001b[0m\u001b[1;33m\u001b[0m\u001b[1;33m\u001b[0m\u001b[0m\n\u001b[0m\u001b[0;32m      4\u001b[0m     \u001b[1;32mif\u001b[0m \u001b[0mnum\u001b[0m\u001b[1;33m==\u001b[0m\u001b[1;34m\"d\"\u001b[0m\u001b[1;33m:\u001b[0m\u001b[1;33m\u001b[0m\u001b[1;33m\u001b[0m\u001b[0m\n\u001b[0;32m      5\u001b[0m         \u001b[1;32mbreak\u001b[0m\u001b[1;33m\u001b[0m\u001b[1;33m\u001b[0m\u001b[0m\n",
      "\u001b[1;31mValueError\u001b[0m: invalid literal for int() with base 10: 'd'"
     ]
    }
   ],
   "source": [
    "total = 0\n",
    "while True:\n",
    "    num=int(input(\"Enter any number or press 'd' to exit \"))\n",
    "    if num==\"d\":\n",
    "        break\n",
    "    else:\n",
    "        total+=num\n",
    "print(total)        "
   ]
  },
  {
   "cell_type": "code",
   "execution_count": 1,
   "id": "9a75ad9f",
   "metadata": {},
   "outputs": [
    {
     "name": "stdout",
     "output_type": "stream",
     "text": [
      "Enter any number or press 0 to exit 4\n",
      "Enter any number or press 0 to exit 5\n",
      "Enter any number or press 0 to exit 6\n",
      "Enter any number or press 0 to exit 0\n",
      "15\n"
     ]
    }
   ],
   "source": [
    "total = 0\n",
    "while True:\n",
    "    num=int(input(\"Enter any number or press 0 to exit \"))\n",
    "    if num==0:\n",
    "        break\n",
    "    else:\n",
    "        total+=num\n",
    "print(total)"
   ]
  },
  {
   "cell_type": "code",
   "execution_count": 2,
   "id": "6d9194a3",
   "metadata": {},
   "outputs": [
    {
     "name": "stdout",
     "output_type": "stream",
     "text": [
      "Enter any number or press 'd' to exit: 4\n",
      "Enter any number or press 'd' to exit: 5\n",
      "Enter any number or press 'd' to exit: 6\n",
      "Enter any number or press 'd' to exit: 7\n",
      "Enter any number or press 'd' to exit: 8\n",
      "Enter any number or press 'd' to exit: d\n",
      "30\n"
     ]
    }
   ],
   "source": [
    "total = 0\n",
    "while True:\n",
    "    num=input(\"Enter any number or press 'd' to exit: \")\n",
    "    if num==\"d\":\n",
    "        break\n",
    "    else:\n",
    "        total+=int(num)\n",
    "print(total)"
   ]
  },
  {
   "cell_type": "code",
   "execution_count": 6,
   "id": "132ee4fd",
   "metadata": {},
   "outputs": [
    {
     "name": "stdout",
     "output_type": "stream",
     "text": [
      "Enter your comma seperated favourite numbers: 2,3,4,5,6,7,8,9\n",
      "44\n"
     ]
    }
   ],
   "source": [
    "total = 0\n",
    "fav_num=input(\"Enter your comma seperated favourite numbers: \").split(',')\n",
    "for num in fav_num:\n",
    "    total += int(num)\n",
    "print(total)    "
   ]
  },
  {
   "cell_type": "code",
   "execution_count": 5,
   "id": "d3f3dc48",
   "metadata": {},
   "outputs": [
    {
     "name": "stdout",
     "output_type": "stream",
     "text": [
      "Enter your favourite numbers: 2 3 4 5 66 77\n",
      "157\n"
     ]
    }
   ],
   "source": [
    "total = 0\n",
    "fav_num=input(\"Enter your favourite numbers: \").split(' ')\n",
    "for num in fav_num:\n",
    "    total += int(num)\n",
    "print(total)    "
   ]
  },
  {
   "cell_type": "code",
   "execution_count": 10,
   "id": "1e8d316b",
   "metadata": {},
   "outputs": [
    {
     "name": "stdout",
     "output_type": "stream",
     "text": [
      "[10, 10, 11, 10, 11, 12, 10, 11, 12, 13, 10, 11, 12, 13, 14, 10, 11, 12, 13, 14, 15, 10, 11, 12, 13, 14, 15, 16]\n"
     ]
    }
   ],
   "source": [
    "greater_than_10=[]\n",
    "a=[2,3,4,5,6,7,8]\n",
    "for i in a:\n",
    "    for j in a:\n",
    "        summ = i+j\n",
    "        if summ>=10:\n",
    "            greater_than_10.append(summ)\n",
    "\n",
    "print(greater_than_10)           "
   ]
  },
  {
   "cell_type": "code",
   "execution_count": null,
   "id": "91a17a27",
   "metadata": {},
   "outputs": [],
   "source": []
  }
 ],
 "metadata": {
  "kernelspec": {
   "display_name": "Python 3 (ipykernel)",
   "language": "python",
   "name": "python3"
  },
  "language_info": {
   "codemirror_mode": {
    "name": "ipython",
    "version": 3
   },
   "file_extension": ".py",
   "mimetype": "text/x-python",
   "name": "python",
   "nbconvert_exporter": "python",
   "pygments_lexer": "ipython3",
   "version": "3.9.7"
  }
 },
 "nbformat": 4,
 "nbformat_minor": 5
}
